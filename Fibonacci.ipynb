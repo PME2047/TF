{
 "cells": [
  {
   "cell_type": "code",
   "execution_count": 2,
   "metadata": {},
   "outputs": [
    {
     "name": "stdout",
     "output_type": "stream",
     "text": [
      "Enter an integer please: -1\n",
      "Enter a positive integer please: -20\n",
      "Enter a positive integer please: -90\n",
      "Enter a positive integer please: 0\n",
      "Enter a positive integer please: 9\n",
      "The number in the fibonacci sequence is:  34\n"
     ]
    }
   ],
   "source": [
    "def fib(n):\n",
    "    \n",
    "    if n == 1 or n == 2: \n",
    "        return 1\n",
    "    else:\n",
    "        return fib(n-2) + fib(n-1)\n",
    "\n",
    "###################################################    \n",
    "\n",
    "string = input('Enter an integer please: ')\n",
    "n = int(string)\n",
    "\n",
    "while n < 1:\n",
    "        str = input('Enter a positive integer please: ')\n",
    "        n = int(str)\n",
    "        \n",
    "print('The number in the fibonacci sequence is: ', fib(n))  "
   ]
  },
  {
   "cell_type": "code",
   "execution_count": null,
   "metadata": {},
   "outputs": [],
   "source": []
  },
  {
   "cell_type": "code",
   "execution_count": null,
   "metadata": {},
   "outputs": [],
   "source": []
  },
  {
   "cell_type": "code",
   "execution_count": null,
   "metadata": {},
   "outputs": [],
   "source": []
  }
 ],
 "metadata": {
  "kernelspec": {
   "display_name": "Python 3",
   "language": "python",
   "name": "python3"
  },
  "language_info": {
   "codemirror_mode": {
    "name": "ipython",
    "version": 3
   },
   "file_extension": ".py",
   "mimetype": "text/x-python",
   "name": "python",
   "nbconvert_exporter": "python",
   "pygments_lexer": "ipython3",
   "version": "3.8.8"
  }
 },
 "nbformat": 4,
 "nbformat_minor": 4
}
